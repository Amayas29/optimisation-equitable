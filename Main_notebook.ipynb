{
 "cells": [
  {
   "cell_type": "code",
   "execution_count": 1,
   "id": "4f12f489",
   "metadata": {},
   "outputs": [],
   "source": [
    "from core import *\n",
    "import numpy as np\n",
    "from time import time\n",
    "import matplotlib.pyplot as plt"
   ]
  },
  {
   "cell_type": "markdown",
   "id": "d09d9e66",
   "metadata": {},
   "source": [
    "# 1. Linéarisation de $f$"
   ]
  },
  {
   "cell_type": "markdown",
   "id": "9937ef3f",
   "metadata": {},
   "source": [
    "## 1.2 Le dual $D(k)$"
   ]
  },
  {
   "cell_type": "code",
   "execution_count": 2,
   "id": "196075c5",
   "metadata": {},
   "outputs": [
    {
     "name": "stdout",
     "output_type": "stream",
     "text": [
      "L(Z) = [1.0, 3.0, 6.0, 10.0, 17.0, 26.0]\n"
     ]
    }
   ],
   "source": [
    "Z = [4, 7, 1, 3, 9, 2]\n",
    "n = len(Z)\n",
    "\n",
    "# On calcule la valeur objective de D(k) (qui est Lk(Z)) pour k de 1 à n\n",
    "L = [resolve_1_2(Z, k) for k in range(1, n+1)]\n",
    "print(f\"L(Z) = {L}\")"
   ]
  },
  {
   "cell_type": "markdown",
   "id": "6be8940a",
   "metadata": {},
   "source": [
    "## 1.4 Reformulation de l'exemple 1"
   ]
  },
  {
   "cell_type": "code",
   "execution_count": 3,
   "id": "891b4007",
   "metadata": {},
   "outputs": [
    {
     "name": "stdout",
     "output_type": "stream",
     "text": [
      "La valeur objective est 50.0\n",
      "x1 = 0, x2 = 1, x3 = 1, x4 = 1, x5 = 0, \n",
      "\n",
      "Les dotations sont de (Z=) : (18, 16)\n"
     ]
    }
   ],
   "source": [
    "coef = np.array([\n",
    "    [5, 6, 4, 8, 1], # Les coefs des x pour z1\n",
    "    [3, 8, 6, 2, 5]\n",
    "])\n",
    "\n",
    "W = [2, 1]\n",
    "resolve_1_4(coef, W)"
   ]
  },
  {
   "cell_type": "markdown",
   "id": "957b4ed2",
   "metadata": {},
   "source": [
    "# 2. Application au partage équitable de biens indivisibles"
   ]
  },
  {
   "cell_type": "markdown",
   "id": "b94245b3",
   "metadata": {},
   "source": [
    "## 2.1 Réformulation du problème en variables mixtes"
   ]
  },
  {
   "cell_type": "code",
   "execution_count": 4,
   "id": "e572db08",
   "metadata": {},
   "outputs": [],
   "source": [
    "coef = np.array(\n",
    "    [[325, 225, 210, 115, 75, 50],\n",
    "     [325, 225, 210, 115, 75, 50],\n",
    "     [325, 225, 210, 115, 75, 50]])"
   ]
  },
  {
   "cell_type": "code",
   "execution_count": 5,
   "id": "84e922c3",
   "metadata": {},
   "outputs": [
    {
     "name": "stdout",
     "output_type": "stream",
     "text": [
      "Pour W = [3, 2, 1]\n",
      "\n",
      "La valeur objective du PL est 1985.0\n",
      "\n",
      "          x1 x2 x3 x4 x5 x6 \n",
      "Agent_1 :  1  0  0  0  0  0 \n",
      "Agent_2 :  0  1  0  1  0  0 \n",
      "Agent_3 :  0  0  1  0  1  1 \n",
      "\n",
      "Les dotations sont de (Z=) : (325, 340, 335)\n"
     ]
    }
   ],
   "source": [
    "W = [3, 2, 1]\n",
    "print(f\"Pour W = {W}\\n\")\n",
    "resolve_2_1(coef, W)"
   ]
  },
  {
   "cell_type": "code",
   "execution_count": 6,
   "id": "a227543f",
   "metadata": {},
   "outputs": [
    {
     "name": "stdout",
     "output_type": "stream",
     "text": [
      "Pour W = [10, 3, 1]\n",
      "\n",
      "La valeur objective du PL est 4595.0\n",
      "\n",
      "          x1 x2 x3 x4 x5 x6 \n",
      "Agent_1 :  0  1  0  1  0  0 \n",
      "Agent_2 :  1  0  0  0  0  0 \n",
      "Agent_3 :  0  0  1  0  1  1 \n",
      "\n",
      "Les dotations sont de (Z=) : (340, 325, 335)\n"
     ]
    }
   ],
   "source": [
    "W = [10, 3, 1]\n",
    "print(f\"Pour W = {W}\\n\")\n",
    "resolve_2_1(coef, W)"
   ]
  },
  {
   "cell_type": "code",
   "execution_count": 7,
   "id": "7e209bc6",
   "metadata": {},
   "outputs": [
    {
     "name": "stdout",
     "output_type": "stream",
     "text": [
      "Pour (z1 + z2 + z3) / 3\n",
      "\n",
      "La valeur objective du PL est 333.33333333333337\n",
      "\n",
      "          x1 x2 x3 x4 x5 x6 \n",
      "Agent_1 :  0  0  0  0  0  0 \n",
      "Agent_2 :  1  1  1  0  0  0 \n",
      "Agent_3 :  0  0  0  1  1  1 \n",
      "\n",
      "Les dotations sont de (Z=) : (0, 760, 240)\n"
     ]
    }
   ],
   "source": [
    "print(\"Pour (z1 + z2 + z3) / 3\\n\")\n",
    "W = [1/3, 1/3, 1/3]\n",
    "resolve_2_1(coef, W)"
   ]
  },
  {
   "cell_type": "markdown",
   "id": "4992d7a0",
   "metadata": {},
   "source": [
    "## 2.2 L'évolution du temps de résolution"
   ]
  },
  {
   "cell_type": "code",
   "execution_count": 8,
   "id": "b3cd1c89",
   "metadata": {},
   "outputs": [],
   "source": [
    "N = [3, 5, 8, 13, 15, 18]\n",
    "res_2 = np.zeros(len(N))\n",
    "\n",
    "for i in range(len(N)):\n",
    "    n = N[i]\n",
    "    p = 2 * n\n",
    "    \n",
    "    for _ in range(10):\n",
    "        U = np.random.randint(1, 100, size=(n, p))\n",
    "        W = np.sort(np.random.choice(np.arange(1, 3*n), replace=False, size=n))[::-1]\n",
    "\n",
    "        tic = time()\n",
    "        resolve_2_1(U, W, verbose=False)\n",
    "        tac = time()\n",
    "        \n",
    "        res_2[i] += tac - tic"
   ]
  },
  {
   "cell_type": "code",
   "execution_count": 9,
   "id": "448d2b8f",
   "metadata": {},
   "outputs": [
    {
     "data": {
      "text/plain": [
       "array([0.00419526, 0.0134213 , 0.11149557, 0.50972183, 1.06071665,\n",
       "       3.43245344])"
      ]
     },
     "execution_count": 9,
     "metadata": {},
     "output_type": "execute_result"
    }
   ],
   "source": [
    "res_2 = res_2 / 10\n",
    "res_2"
   ]
  },
  {
   "cell_type": "code",
   "execution_count": 10,
   "id": "f4956f57",
   "metadata": {},
   "outputs": [
    {
     "data": {
      "text/plain": [
       "[<matplotlib.lines.Line2D at 0x7fca70333940>]"
      ]
     },
     "execution_count": 10,
     "metadata": {},
     "output_type": "execute_result"
    },
    {
     "data": {
      "image/png": "[encoded data removed]",
      "text/plain": [
       "<Figure size 432x288 with 1 Axes>"
      ]
     },
     "metadata": {
      "needs_background": "light"
     },
     "output_type": "display_data"
    }
   ],
   "source": [
    "plt.plot(res_2)"
   ]
  },
  {
   "cell_type": "markdown",
   "id": "a84346c4",
   "metadata": {},
   "source": [
    "# 3. Application à la selection multicritère"
   ]
  },
  {
   "cell_type": "markdown",
   "id": "3601760a",
   "metadata": {},
   "source": [
    "## 3.1 Réformulation du problème en variables mixtes"
   ]
  },
  {
   "cell_type": "code",
   "execution_count": 11,
   "id": "b2eb8327",
   "metadata": {},
   "outputs": [],
   "source": [
    "coef = np.array([\n",
    "    [19,  6, 17,  2],\n",
    "    [ 2, 11,  4, 18]])\n",
    "\n",
    "C = [40, 50, 60, 50]"
   ]
  },
  {
   "cell_type": "code",
   "execution_count": 12,
   "id": "98ac5955",
   "metadata": {},
   "outputs": [
    {
     "name": "stdout",
     "output_type": "stream",
     "text": [
      "Pour W = [2, 1]\n",
      "\n",
      "La valeur objective est 60.99999999999999\n",
      "x1 = 1, x2 = 0, x3 = 0, x4 = 1, \n",
      "\n",
      "Les dotations sont de (Z=) : (21, 20)\n"
     ]
    }
   ],
   "source": [
    "W = [2, 1]\n",
    "print(f\"Pour W = {W}\\n\")\n",
    "resolve_3_1(coef, W, C)"
   ]
  },
  {
   "cell_type": "code",
   "execution_count": 13,
   "id": "08062a86",
   "metadata": {},
   "outputs": [
    {
     "name": "stdout",
     "output_type": "stream",
     "text": [
      "Pour W = [10, 1]\n",
      "\n",
      "La valeur objective est 221.0\n",
      "x1 = 1, x2 = 0, x3 = 0, x4 = 1, \n",
      "\n",
      "Les dotations sont de (Z=) : (21, 20)\n"
     ]
    }
   ],
   "source": [
    "W = [10, 1]\n",
    "print(f\"Pour W = {W}\\n\")\n",
    "resolve_3_1(coef, W, C)"
   ]
  },
  {
   "cell_type": "code",
   "execution_count": 14,
   "id": "d226c8ab",
   "metadata": {},
   "outputs": [
    {
     "name": "stdout",
     "output_type": "stream",
     "text": [
      "Pour (z1 + z2) / 2\n",
      "\n",
      "La valeur objective est 21.0\n",
      "x1 = 1, x2 = 0, x3 = 1, x4 = 0, \n",
      "\n",
      "Les dotations sont de (Z=) : (36, 6)\n"
     ]
    }
   ],
   "source": [
    "print(\"Pour (z1 + z2) / 2\\n\")\n",
    "W = [1/2, 1/2]\n",
    "resolve_3_1(coef, W, C)"
   ]
  },
  {
   "cell_type": "markdown",
   "id": "9b0d3692",
   "metadata": {},
   "source": [
    "## 3.2 L'évolution du temps de résolution"
   ]
  },
  {
   "cell_type": "code",
   "execution_count": 15,
   "id": "43822ecb",
   "metadata": {},
   "outputs": [],
   "source": [
    "N = [2, 5, 10]\n",
    "P = [5, 10, 15, 20]\n",
    "res_3 = np.zeros((len(N), len(P)))\n",
    "\n",
    "for  i in range(len(N)):\n",
    "    n = N[i]\n",
    "    \n",
    "    for j in range(len(P)):\n",
    "        p = P[j]\n",
    "    \n",
    "        for _ in range(10):\n",
    "            U = np.random.randint(1, 100, size=(n, p))\n",
    "            W = np.sort(np.random.choice(np.arange(1, 3*n), replace=False, size=n))[::-1]\n",
    "            C = np.random.randint(1, 100, size=p)\n",
    "            \n",
    "            tic = time()\n",
    "            resolve_3_1(U, W, C, verbose=False)\n",
    "            tac = time()\n",
    "                   \n",
    "            res_3[i][j] += tac - tic"
   ]
  },
  {
   "cell_type": "code",
   "execution_count": 16,
   "id": "fb9f64f2",
   "metadata": {},
   "outputs": [
    {
     "data": {
      "text/plain": [
       "array([[0.00251663, 0.00391061, 0.00422089, 0.00551171],\n",
       "       [0.00566943, 0.00882323, 0.01301949, 0.01606162],\n",
       "       [0.01642754, 0.02979059, 0.04290199, 0.05821707]])"
      ]
     },
     "execution_count": 16,
     "metadata": {},
     "output_type": "execute_result"
    }
   ],
   "source": [
    "res_3 = res_3 / 10\n",
    "res_3"
   ]
  },
  {
   "cell_type": "code",
   "execution_count": 17,
   "id": "8ecb0492",
   "metadata": {},
   "outputs": [
    {
     "data": {
      "text/plain": [
       "<matplotlib.colorbar.Colorbar at 0x7fca71261f70>"
      ]
     },
     "execution_count": 17,
     "metadata": {},
     "output_type": "execute_result"
    },
    {
     "data": {
      "image/png": "[encoded data removed]",
      "text/plain": [
       "<Figure size 432x288 with 2 Axes>"
      ]
     },
     "metadata": {
      "needs_background": "light"
     },
     "output_type": "display_data"
    }
   ],
   "source": [
    "plt.imshow(res_3)\n",
    "plt.colorbar()"
   ]
  },
  {
   "cell_type": "markdown",
   "id": "69fd5d3e",
   "metadata": {},
   "source": [
    "# 4. Application d'un chemin robuste dans un graphe"
   ]
  },
  {
   "cell_type": "markdown",
   "id": "ec9e6849",
   "metadata": {},
   "source": [
    "## 4.1 Reformulation du problème"
   ]
  },
  {
   "cell_type": "code",
   "execution_count": 18,
   "id": "100f0b20",
   "metadata": {},
   "outputs": [
    {
     "name": "stdout",
     "output_type": "stream",
     "text": [
      "Pour le scénario 1\n",
      "\n",
      "La valeur objective est 5.0\n",
      "\n",
      "x_0_3\n",
      "x_2_5\n",
      "x_3_2\n",
      "x_5_6\n"
     ]
    }
   ],
   "source": [
    "print(\"Pour le scénario 1\")\n",
    "T = np.array([\n",
    "    [0, 5, 10, 2, 0, 0, 0],\n",
    "    [0, 0, 4, 1, 4, 0, 0],\n",
    "    [0, 0, 0, 0, 3, 1, 0],\n",
    "    [0, 0, 1, 0, 0, 3, 0],\n",
    "    [0, 0, 0, 0, 0, 0, 1],\n",
    "    [0, 0, 0, 0, 0, 0, 1],\n",
    "    [0, 0, 0, 0, 0, 0, 0]\n",
    "])\n",
    "\n",
    "resolve_4_1(T, 0, 6)"
   ]
  },
  {
   "cell_type": "code",
   "execution_count": 19,
   "id": "82aa0949",
   "metadata": {},
   "outputs": [
    {
     "name": "stdout",
     "output_type": "stream",
     "text": [
      "Pour le scénario 2\n",
      "\n",
      "La valeur objective est 6.0\n",
      "\n",
      "x_0_2\n",
      "x_2_4\n",
      "x_4_6\n"
     ]
    }
   ],
   "source": [
    "print(\"Pour le scénario 2\")\n",
    "T = np.array([\n",
    "    [0, 3, 4, 6, 0, 0, 0],\n",
    "    [0, 0, 2, 3, 6, 0, 0],\n",
    "    [0, 0, 0, 0, 1, 2, 0],\n",
    "    [0, 0, 4, 0, 0, 5, 0],\n",
    "    [0, 0, 0, 0, 0, 0, 1],\n",
    "    [0, 0, 0, 0, 0, 0, 1],\n",
    "    [0, 0, 0, 0, 0, 0, 0]\n",
    "])\n",
    "\n",
    "resolve_4_1(T, 0, 6)"
   ]
  },
  {
   "cell_type": "code",
   "execution_count": 20,
   "id": "d48b80e1",
   "metadata": {},
   "outputs": [
    {
     "name": "stdout",
     "output_type": "stream",
     "text": [
      "\n",
      "La valeur objective est -30.0\n",
      "\n",
      "x_0_1\n",
      "x_1_2\n",
      "x_2_5\n",
      "x_5_6\n",
      "\n",
      "\n",
      "Les temps des scénarios est de : (11, 8)\n"
     ]
    }
   ],
   "source": [
    "T = np.array(\n",
    "    [[\n",
    "        [0, 5, 10, 2, 0, 0, 0],\n",
    "        [0, 0, 4, 1, 4, 0, 0],\n",
    "        [0, 0, 0, 0, 3, 1, 0],\n",
    "        [0, 0, 1, 0, 0, 3, 0],\n",
    "        [0, 0, 0, 0, 0, 0, 1],\n",
    "        [0, 0, 0, 0, 0, 0, 1],\n",
    "        [0, 0, 0, 0, 0, 0, 0]\n",
    "    ],\n",
    "\n",
    "        [\n",
    "        [0, 3, 4, 6, 0, 0, 0],\n",
    "        [0, 0, 2, 3, 6, 0, 0],\n",
    "        [0, 0, 0, 0, 1, 2, 0],\n",
    "        [0, 0, 4, 0, 0, 5, 0],\n",
    "        [0, 0, 0, 0, 0, 0, 1],\n",
    "        [0, 0, 0, 0, 0, 0, 1],\n",
    "        [0, 0, 0, 0, 0, 0, 0]\n",
    "    ]])\n",
    "\n",
    "W = [2, 1]\n",
    "resolve_4_2(T, W, 0, 6)"
   ]
  },
  {
   "cell_type": "code",
   "execution_count": 21,
   "id": "5a6b18a7",
   "metadata": {},
   "outputs": [],
   "source": [
    "T_temp = np.array([\n",
    "    [0, 3, 4, 6, 0, 0, 0],\n",
    "    [0, 0, 2, 3, 6, 0, 0],\n",
    "    [0, 0, 0, 0, 1, 2, 0],\n",
    "    [0, 0, 4, 0, 0, 5, 0],\n",
    "    [0, 0, 0, 0, 0, 0, 1],\n",
    "    [0, 0, 0, 0, 0, 0, 1],\n",
    "    [0, 0, 0, 0, 0, 0, 0]\n",
    "])\n",
    "\n",
    "n = 2\n",
    "\n",
    "res_4 = np.zeros((5, 20, n))\n",
    "    \n",
    "for i in range(20):\n",
    "\n",
    "    T = []\n",
    "    for _ in range(n):\n",
    "        t = np.random.randint(1, 30, size=T_temp.shape)\n",
    "        t[T_temp == 0] = 0\n",
    "        T.append(t)\n",
    "\n",
    "    T = np.array(T)\n",
    "    \n",
    "    for alpha in range(1, 6):\n",
    "        W = generate_w(alpha, n)\n",
    "        res_4[alpha - 1][i] = resolve_4_2(T, W, 0, 6, res=True)"
   ]
  },
  {
   "cell_type": "code",
   "execution_count": 22,
   "id": "87c497eb",
   "metadata": {},
   "outputs": [],
   "source": [
    "res_4 = np.array(res_4)\n",
    "X = res_4[:,:,0]\n",
    "Y = res_4[:,:,1]"
   ]
  },
  {
   "cell_type": "code",
   "execution_count": 23,
   "id": "7eb77a85",
   "metadata": {
    "scrolled": false
   },
   "outputs": [
    {
     "data": {
      "image/png": "[encoded data removed]",
      "text/plain": [
       "<Figure size 1440x1008 with 5 Axes>"
      ]
     },
     "metadata": {
      "needs_background": "light"
     },
     "output_type": "display_data"
    }
   ],
   "source": [
    "plt.figure(figsize=(20,14))\n",
    "\n",
    "for i in range(1, 6):\n",
    "    W = generate_w(i, n)\n",
    "    plt.subplot(2,3,i)\n",
    "    m = np.maximum(np.max(X[i-1]), np.max(Y[i-1]))\n",
    "    plt.plot(np.arange(m), np.arange(m))\n",
    "    plt.scatter(X[i-1], Y[i-1])\n",
    "    plt.title(f\"(t1, t2) pour alpha = {i}, \\nw = {W}\", fontsize=22)\n",
    "    \n",
    "plt.show()"
   ]
  }
 ],
 "metadata": {
  "kernelspec": {
   "display_name": "Python 3 (ipykernel)",
   "language": "python",
   "name": "python3"
  },
  "language_info": {
   "codemirror_mode": {
    "name": "ipython",
    "version": 3
   },
   "file_extension": ".py",
   "mimetype": "text/x-python",
   "name": "python",
   "nbconvert_exporter": "python",
   "pygments_lexer": "ipython3",
   "version": "3.9.12"
  }
 },
 "nbformat": 4,
 "nbformat_minor": 5
}
